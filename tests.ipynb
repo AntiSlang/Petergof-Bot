{
 "cells": [
  {
   "cell_type": "code",
   "id": "initial_id",
   "metadata": {
    "collapsed": true,
    "ExecuteTime": {
     "end_time": "2025-03-27T21:45:41.896950Z",
     "start_time": "2025-03-27T21:45:34.641036Z"
    }
   },
   "source": [
    "%load_ext autoreload\n",
    "%autoreload 2\n",
    "from rout_suggestion import get_route_suggestion\n",
    "from utils import create_json_chunks\n",
    "user_dialogues = [\n",
    "    {\"user\": \"Расскажи мне про нижний парк\"},\n",
    "    {\"bot\": \"Ну он норм\"},\n",
    "    {\"user\": \"давай дом игральных карт и еще один объект\"},\n",
    "]\n",
    "\n",
    "data_chunks = create_json_chunks()\n",
    "\n",
    "res, current_route_json = get_route_suggestion(user_dialogues, data_chunks)\n",
    "user_dialogues.append({'bot': res})\n",
    "print(res)"
   ],
   "outputs": [
    {
     "name": "stdout",
     "output_type": "stream",
     "text": [
      "The autoreload extension is already loaded. To reload it, use:\n",
      "  %reload_ext autoreload\n",
      "Response----------\n",
      "Пользователь хочет посетить Дом игральных карт и Нижний парк. Он положительно отзывается о Нижнем парке, а также просит включить в маршрут Дом игральных карт.\n",
      "\n",
      "```\n",
      "{\n",
      "\"start\": \"\",\n",
      "\"end\": \"Дом игральных карт\",\n",
      "\"others\": [\"Нижний парк\"]\n",
      "}\n",
      "```\n",
      "start: , end: Дом игральных карт, others: ['Нижний парк']\n",
      "Finding new objects----------------------------------------\n",
      "```\n",
      "{\n",
      "    \"new_objects\": \"Дом игральных карт\"\n",
      "}\n",
      "```\n",
      "Extracted objects -------------------\n",
      "Дом игральных карт\n",
      "Из нашего диалога я понял, что вас интересует информация о Нижнем парке и Доме игральных карт. Выбранный маршрут позволит вам получить представление об истории Нижнего парка и узнать больше о необычном интерактивном музее.\n",
      "\n",
      "Нижний парк — один из самых известных и красивых парков Петергофа, который формировался в начале XVIII века. Здесь вы сможете насладиться красотой природы и узнать интересные факты об архитекторах, создавших этот ансамбль. Дом игральных карт — это уникальный проект, посвящённый истории игральных карт, который сочетает в себе элементы музея и спектакля.\n",
      "\n",
      "Вас устраивает такой маршрут или нужны ещё корректировки?\n",
      "\n",
      "Вы можете изучить предложенный маршрут подробнее по ссылке: [Ссылка Яндекс Карты](https://yandex.ru/maps/?rtext=59.891802%2C29.913220~59.8850936276%2C29.9058687687~59.8831294324%2C29.9113216996&rtt=auto).\n"
     ]
    }
   ],
   "execution_count": 109
  },
  {
   "metadata": {
    "ExecuteTime": {
     "end_time": "2025-03-27T21:42:56.175773Z",
     "start_time": "2025-03-27T21:42:56.059106Z"
    }
   },
   "cell_type": "code",
   "source": [
    "message = \"мне нужно только что-то одно \"\n",
    "user_dialogues.append({'user': message})"
   ],
   "id": "c2ae0ed511d83745",
   "outputs": [],
   "execution_count": 107
  },
  {
   "metadata": {
    "ExecuteTime": {
     "end_time": "2025-03-27T21:42:55.379484Z",
     "start_time": "2025-03-27T21:42:55.263365Z"
    }
   },
   "cell_type": "code",
   "source": "user_dialogues.append({'bot': res})",
   "id": "c1ccf8c005c5820d",
   "outputs": [],
   "execution_count": 106
  },
  {
   "metadata": {
    "ExecuteTime": {
     "end_time": "2025-03-27T21:43:07.809714Z",
     "start_time": "2025-03-27T21:42:57.507095Z"
    }
   },
   "cell_type": "code",
   "source": [
    "%load_ext autoreload\n",
    "%autoreload 2\n",
    "from rout_suggestion import change_route_by_message\n",
    "res, _ = change_route_by_message(message, current_route_json, data_chunks, user_dialogues)\n",
    "\n",
    "print(res)"
   ],
   "id": "8a5d7bf39448e8f8",
   "outputs": [
    {
     "name": "stdout",
     "output_type": "stream",
     "text": [
      "The autoreload extension is already loaded. To reload it, use:\n",
      "  %reload_ext autoreload\n",
      "Good query Пожалуйста, порекомендуйте мне что-нибудь одно для посещения.\n",
      "Updated objects -------------------\n",
      "```\n",
      "{\n",
      "    \"remaining_objects\": \"Нижний парк, Фонтан «Самсон»\"\n",
      "}\n",
      "```\n",
      "```\n",
      "{\n",
      "    \"new_objects\": \"\"\n",
      "}\n",
      "```\n",
      "Extracted objects -------------------\n",
      "\n",
      "Здравствуйте!\n",
      "\n",
      "Я скорректировал маршрут с учётом ваших пожеланий. В нём остались только два объекта: Нижний парк и фонтан «Самсон». Также я добавил информацию об архитекторах Нижнего парка и скульпторах, которые работали над фонтаном в разное время.\n",
      "\n",
      "Нижний парк — это первый пункт маршрута, здесь вы узнаете даты формирования ансамбля (1714–1723 гг.) и имена архитекторов, которые участвовали в его создании: Иоганн Фридрих Браунштейн (годы жизни неизвестны), Жан-Батист Леблон (1679–1719), Н. Микетти и другие.\n",
      "\n",
      "Далее вы сможете посетить фонтан «Самсон», который является идейным центром Большого каскада и одним из самых знаменитых фонтанов Петергофа. Вы узнаете об истории его создания и о том, какие скульпторы работали над ним в разное время: Б. К. Растрелли (1735 г.), М. И. Козловский (1802 г.), В. Л. Симонов и Н. В. Михайлов (1947 г.).\n",
      "\n",
      "Новый маршрут выглядит так:\n",
      "1.\tНижний парк.\n",
      "2.\tФонтан «Самсон».\n",
      "\n",
      "Вы можете изучить маршрут подробнее по ссылке: [Ссылка Яндекс Карты](https://yandex.ru/maps/?rtext=59.891802%2C29.913220~59.8850936276%2C29.9058687687~59.8852282034%2C29.9091410637&rtt=auto).\n",
      "\n",
      "Вас устраивает такой маршрут или нужны дополнительные корректировки?\n"
     ]
    }
   ],
   "execution_count": 108
  },
  {
   "metadata": {
    "ExecuteTime": {
     "end_time": "2025-03-11T21:10:05.968578Z",
     "start_time": "2025-03-11T21:10:05.812238Z"
    }
   },
   "cell_type": "code",
   "source": "current_route_json",
   "id": "b8b664e76ff8a53b",
   "outputs": [
    {
     "data": {
      "text/plain": [
       "[{'name': 'Парк Александрия',\n",
       "  'description': 'Дата формирования: 1826 - 1832 годыАрхитекторы: А.А. Менелас, А. И. ШтакеншнейдерСадовый мастер: П.И. ЭрлерПлощадь парка - 115 гаПарк Александрия назван так по имени своей первой владелицы – императрицы Александры Фёдоровны, супруги Николая I. Cолнце, цветы, тенистые рощи старых дубов, \"музыка воды\" ручья, просторы лугов под сливающимся с заливом бездонным небом – всё это и есть Александрия – семейное гнездо четырёх поколений династии Романовых.\\n    \\n        \\n            Рекомендованный маршрут прогулки по парку Александрия\\n            \\n                Сохраните карту на вашем устройстве \\n            \\n        \\n    \\n',\n",
       "  'score': 68,\n",
       "  'link': 'https://peterhofmuseum.ru/images/w1000-h1000/20220328/e05abc341efc682bbad5f9437ef43bff.jpg',\n",
       "  'coordinates': {'lat': '59.8802377698', 'lon': '29.9281632900'}}]"
      ]
     },
     "execution_count": 10,
     "metadata": {},
     "output_type": "execute_result"
    }
   ],
   "execution_count": 10
  }
 ],
 "metadata": {
  "kernelspec": {
   "display_name": "Python 3",
   "language": "python",
   "name": "python3"
  },
  "language_info": {
   "codemirror_mode": {
    "name": "ipython",
    "version": 2
   },
   "file_extension": ".py",
   "mimetype": "text/x-python",
   "name": "python",
   "nbconvert_exporter": "python",
   "pygments_lexer": "ipython2",
   "version": "2.7.6"
  }
 },
 "nbformat": 4,
 "nbformat_minor": 5
}
