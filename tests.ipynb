{
 "cells": [
  {
   "cell_type": "code",
   "execution_count": 2,
   "metadata": {
    "collapsed": true
   },
   "outputs": [
    {
     "name": "stderr",
     "output_type": "stream",
     "text": [
      "/Users/danbel1kov/PycharmProjects/rag_kursach/kursach/lib/python3.9/site-packages/sklearn/utils/deprecation.py:151: FutureWarning: 'force_all_finite' was renamed to 'ensure_all_finite' in 1.6 and will be removed in 1.8.\n",
      "  warnings.warn(\n",
      "WARNING: All log messages before absl::InitializeLog() is called are written to STDERR\n",
      "I0000 00:00:1735998487.594489 58455578 fork_posix.cc:75] Other threads are currently calling into gRPC, skipping fork() handlers\n",
      "I0000 00:00:1735998488.637978 58455578 fork_posix.cc:75] Other threads are currently calling into gRPC, skipping fork() handlers\n",
      "/Users/danbel1kov/PycharmProjects/rag_kursach/kursach/lib/python3.9/site-packages/sklearn/utils/deprecation.py:151: FutureWarning: 'force_all_finite' was renamed to 'ensure_all_finite' in 1.6 and will be removed in 1.8.\n",
      "  warnings.warn(\n"
     ]
    },
    {
     "name": "stdout",
     "output_type": "stream",
     "text": [
      "--Generated 12 clusters--\n"
     ]
    },
    {
     "name": "stderr",
     "output_type": "stream",
     "text": [
      "/Users/danbel1kov/PycharmProjects/rag_kursach/kursach/lib/python3.9/site-packages/sklearn/utils/deprecation.py:151: FutureWarning: 'force_all_finite' was renamed to 'ensure_all_finite' in 1.6 and will be removed in 1.8.\n",
      "  warnings.warn(\n"
     ]
    },
    {
     "name": "stdout",
     "output_type": "stream",
     "text": [
      "--Generated 2 clusters--\n"
     ]
    }
   ],
   "source": [
    "# from langchain_openai import OpenAIEmbeddings,  ChatOpenAI\n",
    "from raptor import DataEnlarger\n",
    "from yandex_cloud_ml_sdk import YCloudML\n",
    "from yandex_chain import YandexEmbeddings\n",
    "from yandex_chain import YandexLLM\n",
    "import os\n",
    "# from sentence_transformers import SentenceTransformer\n",
    "\n",
    "sdk = YCloudML(\n",
    "        folder_id=\"b1g10f66fjjfuqg9ehje\",\n",
    "        auth=\"AQVN0zMfZzvnaQ_qeJz4mtiu3yYeTKJe2aupo1z5\",\n",
    "    )\n",
    "\n",
    "# query_model = sdk.models.text_embeddings(\"query\")\n",
    "\n",
    "embd = sdk.models.text_embeddings(\"doc\")\n",
    "model = sdk.models.completions(\"yandexgpt\")\n",
    "\n",
    "path = 'data.json'\n",
    "#\n",
    "de = DataEnlarger(llm = model, embd = embd, data_path=path)\n",
    "\n"
   ]
  },
  {
   "cell_type": "code",
   "execution_count": 4,
   "outputs": [
    {
     "data": {
      "text/plain": "83"
     },
     "execution_count": 4,
     "metadata": {},
     "output_type": "execute_result"
    }
   ],
   "source": [
    "len(de.retriever)"
   ],
   "metadata": {
    "collapsed": false
   }
  },
  {
   "cell_type": "code",
   "execution_count": 3,
   "outputs": [
    {
     "ename": "PydanticUserError",
     "evalue": "A non-annotated attribute was detected: `retries = 3`. All model fields require a type annotation; if `retries` is not meant to be a field, you may be able to resolve this error by annotating it as a `ClassVar` or updating `model_config['ignored_types']`.\n\nFor further information visit https://errors.pydantic.dev/2.10/u/model-field-missing-annotation",
     "output_type": "error",
     "traceback": [
      "\u001B[0;31m---------------------------------------------------------------------------\u001B[0m",
      "\u001B[0;31mPydanticUserError\u001B[0m                         Traceback (most recent call last)",
      "Cell \u001B[0;32mIn[3], line 1\u001B[0m\n\u001B[0;32m----> 1\u001B[0m \u001B[38;5;28;01mfrom\u001B[39;00m \u001B[38;5;21;01myandex_chain\u001B[39;00m \u001B[38;5;28;01mimport\u001B[39;00m YandexEmbeddings\n\u001B[1;32m      2\u001B[0m \u001B[38;5;28;01mfrom\u001B[39;00m \u001B[38;5;21;01myandex_chain\u001B[39;00m \u001B[38;5;28;01mimport\u001B[39;00m YandexLLM\n\u001B[1;32m      5\u001B[0m \u001B[38;5;28;01mfrom\u001B[39;00m \u001B[38;5;21;01mlangchain\u001B[39;00m\u001B[38;5;21;01m.\u001B[39;00m\u001B[38;5;21;01mprompts\u001B[39;00m \u001B[38;5;28;01mimport\u001B[39;00m PromptTemplate\n",
      "File \u001B[0;32m~/PycharmProjects/rag_kursach/kursach/lib/python3.9/site-packages/yandex_chain/__init__.py:8\u001B[0m\n\u001B[1;32m      5\u001B[0m __version__ \u001B[38;5;241m=\u001B[39m \u001B[38;5;124m'\u001B[39m\u001B[38;5;124m0.0.10\u001B[39m\u001B[38;5;124m'\u001B[39m\n\u001B[1;32m      7\u001B[0m \u001B[38;5;28;01mfrom\u001B[39;00m \u001B[38;5;21;01m.\u001B[39;00m\u001B[38;5;21;01mYandexGPTEmbeddings\u001B[39;00m \u001B[38;5;28;01mimport\u001B[39;00m YandexEmbeddings\n\u001B[0;32m----> 8\u001B[0m \u001B[38;5;28;01mfrom\u001B[39;00m \u001B[38;5;21;01m.\u001B[39;00m\u001B[38;5;21;01mYandexGPT\u001B[39;00m \u001B[38;5;28;01mimport\u001B[39;00m YandexLLM, YandexGPTModel\n\u001B[1;32m      9\u001B[0m \u001B[38;5;28;01mfrom\u001B[39;00m \u001B[38;5;21;01m.\u001B[39;00m\u001B[38;5;21;01mYandexGPTClassifier\u001B[39;00m \u001B[38;5;28;01mimport\u001B[39;00m YandexGPTClassifier\n\u001B[1;32m     10\u001B[0m \u001B[38;5;28;01mfrom\u001B[39;00m \u001B[38;5;21;01m.\u001B[39;00m\u001B[38;5;21;01mChatYandexGPT\u001B[39;00m \u001B[38;5;28;01mimport\u001B[39;00m ChatYandexGPT\n",
      "File \u001B[0;32m~/PycharmProjects/rag_kursach/kursach/lib/python3.9/site-packages/yandex_chain/YandexGPT.py:20\u001B[0m\n\u001B[1;32m     17\u001B[0m     Pro32k \u001B[38;5;241m=\u001B[39m \u001B[38;5;241m5\u001B[39m\n\u001B[1;32m     18\u001B[0m     Custom \u001B[38;5;241m=\u001B[39m \u001B[38;5;241m99\u001B[39m\n\u001B[0;32m---> 20\u001B[0m \u001B[38;5;28;01mclass\u001B[39;00m \u001B[38;5;21;01mYandexLLM\u001B[39;00m(LLM):\n\u001B[1;32m     21\u001B[0m     temperature : \u001B[38;5;28mfloat\u001B[39m \u001B[38;5;241m=\u001B[39m \u001B[38;5;241m1.0\u001B[39m\n\u001B[1;32m     22\u001B[0m     max_tokens : \u001B[38;5;28mint\u001B[39m \u001B[38;5;241m=\u001B[39m \u001B[38;5;241m1500\u001B[39m\n",
      "File \u001B[0;32m~/PycharmProjects/rag_kursach/kursach/lib/python3.9/site-packages/pydantic/_internal/_model_construction.py:113\u001B[0m, in \u001B[0;36mModelMetaclass.__new__\u001B[0;34m(mcs, cls_name, bases, namespace, __pydantic_generic_metadata__, __pydantic_reset_parent_namespace__, _create_model_module, **kwargs)\u001B[0m\n\u001B[1;32m    111\u001B[0m config_wrapper \u001B[38;5;241m=\u001B[39m ConfigWrapper\u001B[38;5;241m.\u001B[39mfor_model(bases, namespace, kwargs)\n\u001B[1;32m    112\u001B[0m namespace[\u001B[38;5;124m'\u001B[39m\u001B[38;5;124mmodel_config\u001B[39m\u001B[38;5;124m'\u001B[39m] \u001B[38;5;241m=\u001B[39m config_wrapper\u001B[38;5;241m.\u001B[39mconfig_dict\n\u001B[0;32m--> 113\u001B[0m private_attributes \u001B[38;5;241m=\u001B[39m \u001B[43minspect_namespace\u001B[49m\u001B[43m(\u001B[49m\n\u001B[1;32m    114\u001B[0m \u001B[43m    \u001B[49m\u001B[43mnamespace\u001B[49m\u001B[43m,\u001B[49m\u001B[43m \u001B[49m\u001B[43mconfig_wrapper\u001B[49m\u001B[38;5;241;43m.\u001B[39;49m\u001B[43mignored_types\u001B[49m\u001B[43m,\u001B[49m\u001B[43m \u001B[49m\u001B[43mclass_vars\u001B[49m\u001B[43m,\u001B[49m\u001B[43m \u001B[49m\u001B[43mbase_field_names\u001B[49m\n\u001B[1;32m    115\u001B[0m \u001B[43m\u001B[49m\u001B[43m)\u001B[49m\n\u001B[1;32m    116\u001B[0m \u001B[38;5;28;01mif\u001B[39;00m private_attributes \u001B[38;5;129;01mor\u001B[39;00m base_private_attributes:\n\u001B[1;32m    117\u001B[0m     original_model_post_init \u001B[38;5;241m=\u001B[39m get_model_post_init(namespace, bases)\n",
      "File \u001B[0;32m~/PycharmProjects/rag_kursach/kursach/lib/python3.9/site-packages/pydantic/_internal/_model_construction.py:506\u001B[0m, in \u001B[0;36minspect_namespace\u001B[0;34m(namespace, ignored_types, base_class_vars, base_class_fields)\u001B[0m\n\u001B[1;32m    502\u001B[0m             \u001B[38;5;28;01mraise\u001B[39;00m PydanticUserError(\n\u001B[1;32m    503\u001B[0m                 \u001B[38;5;124mf\u001B[39m\u001B[38;5;124m'\u001B[39m\u001B[38;5;124mField \u001B[39m\u001B[38;5;132;01m{\u001B[39;00mvar_name\u001B[38;5;132;01m!r}\u001B[39;00m\u001B[38;5;124m requires a type annotation\u001B[39m\u001B[38;5;124m'\u001B[39m, code\u001B[38;5;241m=\u001B[39m\u001B[38;5;124m'\u001B[39m\u001B[38;5;124mmodel-field-missing-annotation\u001B[39m\u001B[38;5;124m'\u001B[39m\n\u001B[1;32m    504\u001B[0m             )\n\u001B[1;32m    505\u001B[0m         \u001B[38;5;28;01melse\u001B[39;00m:\n\u001B[0;32m--> 506\u001B[0m             \u001B[38;5;28;01mraise\u001B[39;00m PydanticUserError(\n\u001B[1;32m    507\u001B[0m                 \u001B[38;5;124mf\u001B[39m\u001B[38;5;124m'\u001B[39m\u001B[38;5;124mA non-annotated attribute was detected: `\u001B[39m\u001B[38;5;132;01m{\u001B[39;00mvar_name\u001B[38;5;132;01m}\u001B[39;00m\u001B[38;5;124m = \u001B[39m\u001B[38;5;132;01m{\u001B[39;00mvalue\u001B[38;5;132;01m!r}\u001B[39;00m\u001B[38;5;124m`. All model fields require a \u001B[39m\u001B[38;5;124m'\u001B[39m\n\u001B[1;32m    508\u001B[0m                 \u001B[38;5;124mf\u001B[39m\u001B[38;5;124m'\u001B[39m\u001B[38;5;124mtype annotation; if `\u001B[39m\u001B[38;5;132;01m{\u001B[39;00mvar_name\u001B[38;5;132;01m}\u001B[39;00m\u001B[38;5;124m` is not meant to be a field, you may be able to resolve this \u001B[39m\u001B[38;5;124m'\u001B[39m\n\u001B[1;32m    509\u001B[0m                 \u001B[38;5;124mf\u001B[39m\u001B[38;5;124m\"\u001B[39m\u001B[38;5;124merror by annotating it as a `ClassVar` or updating `model_config[\u001B[39m\u001B[38;5;124m'\u001B[39m\u001B[38;5;124mignored_types\u001B[39m\u001B[38;5;124m'\u001B[39m\u001B[38;5;124m]`.\u001B[39m\u001B[38;5;124m\"\u001B[39m,\n\u001B[1;32m    510\u001B[0m                 code\u001B[38;5;241m=\u001B[39m\u001B[38;5;124m'\u001B[39m\u001B[38;5;124mmodel-field-missing-annotation\u001B[39m\u001B[38;5;124m'\u001B[39m,\n\u001B[1;32m    511\u001B[0m             )\n\u001B[1;32m    513\u001B[0m \u001B[38;5;28;01mfor\u001B[39;00m ann_name, ann_type \u001B[38;5;129;01min\u001B[39;00m raw_annotations\u001B[38;5;241m.\u001B[39mitems():\n\u001B[1;32m    514\u001B[0m     \u001B[38;5;28;01mif\u001B[39;00m (\n\u001B[1;32m    515\u001B[0m         is_valid_privateattr_name(ann_name)\n\u001B[1;32m    516\u001B[0m         \u001B[38;5;129;01mand\u001B[39;00m ann_name \u001B[38;5;129;01mnot\u001B[39;00m \u001B[38;5;129;01min\u001B[39;00m private_attributes\n\u001B[0;32m   (...)\u001B[0m\n\u001B[1;32m    522\u001B[0m         \u001B[38;5;129;01mand\u001B[39;00m \u001B[38;5;28mgetattr\u001B[39m(ann_type, \u001B[38;5;124m'\u001B[39m\u001B[38;5;124m__module__\u001B[39m\u001B[38;5;124m'\u001B[39m, \u001B[38;5;28;01mNone\u001B[39;00m) \u001B[38;5;241m!=\u001B[39m \u001B[38;5;124m'\u001B[39m\u001B[38;5;124mfunctools\u001B[39m\u001B[38;5;124m'\u001B[39m\n\u001B[1;32m    523\u001B[0m     ):\n",
      "\u001B[0;31mPydanticUserError\u001B[0m: A non-annotated attribute was detected: `retries = 3`. All model fields require a type annotation; if `retries` is not meant to be a field, you may be able to resolve this error by annotating it as a `ClassVar` or updating `model_config['ignored_types']`.\n\nFor further information visit https://errors.pydantic.dev/2.10/u/model-field-missing-annotation"
     ]
    }
   ],
   "source": [
    "from yandex_chain import YandexEmbeddings\n",
    "from yandex_chain import YandexLLM\n",
    "\n",
    "\n",
    "from langchain.prompts import PromptTemplate\n",
    "from langchain.document_loaders import DirectoryLoader, PyPDFLoader\n",
    "from langchain.text_splitter import RecursiveCharacterTextSplitter\n",
    "from langchain.vectorstores import OpenSearchVectorSearch\n",
    "\n",
    "from langchain.chains import RetrievalQA\n",
    "\n",
    "yagpt_folder_id = \"b1g10f66fjjfuqg9ehje\"\n",
    "yagpt_api_key = \"AQVN0zMfZzvnaQ_qeJz4mtiu3yYeTKJe2aupo1z5\"\n",
    "\n",
    "embeddings = YandexEmbeddings(folder_id=yagpt_folder_id, api_key=yagpt_api_key)\n",
    "\n",
    "# обращение к модели YaGPT\n",
    "llm = YandexLLM(api_key=yagpt_api_key, folder_id=yagpt_folder_id, temperature = yagpt_temp, max_tokens=7000)\n",
    "\n",
    "# # инициализация retrival chain - цепочки поиска\n",
    "# vectorstore = OpenSearchVectorSearch (\n",
    "#     embedding_function=embeddings,\n",
    "#     index_name = mdb_os_index_name,\n",
    "#     opensearch_url=mdb_os_hosts,\n",
    "#     http_auth=(\"admin\", mdb_os_pwd),\n",
    "#     use_ssl = True,\n",
    "#     verify_certs = False,\n",
    "#     ca_certs = MDB_OS_CA,\n",
    "#     engine = 'lucene'\n",
    "# )\n",
    "\n",
    "template = \"\"\"Представь, что ты полезный ИИ-помощник. Твоя задача отвечать на вопросы на русском языке в рамках предоставленного ниже текста.\n",
    "Отвечай точно в рамках предоставленного текста, даже если тебя просят придумать.\n",
    "Отвечай вежливо в официальном стиле. Eсли знаешь больше, чем указано в тексте, а внутри текста ответа нет, отвечай\n",
    "\"Я могу давать ответы только по тематике загруженных документов. Мне не удалось найти в документах ответ на ваш вопрос.\"\n",
    "Вопрос: {question}\n",
    "Твой ответ:\n",
    "\"\"\"\n",
    "rag_k = 4\n",
    "QA_CHAIN_PROMPT = PromptTemplate.from_template(template)\n",
    "qa = RetrievalQA.from_chain_type(\n",
    "    llm,\n",
    "    chain_type_kwargs={\"prompt\": QA_CHAIN_PROMPT}\n",
    ")\n",
    "\n",
    "output = qa({\"query\": \"Привет!\"})\n",
    "print(output['result'])"
   ],
   "metadata": {
    "collapsed": false
   }
  },
  {
   "cell_type": "code",
   "execution_count": 13,
   "outputs": [
    {
     "name": "stdout",
     "output_type": "stream",
     "text": [
      "[-0.04214478 -0.06280518  0.05874634 -0.05371094  0.01689148 -0.09399414\n",
      "  0.05337524 -0.02938843 -0.08544922 -0.07055664 -0.05371094 -0.1182251\n",
      "  0.03796387  0.15405273  0.00876617  0.02378845  0.00445938 -0.04870605\n",
      " -0.14318848  0.01293945  0.07336426 -0.03015137 -0.20568848  0.00885773\n",
      "  0.02624512  0.10437012  0.0440979   0.04336548  0.09918213 -0.05807495\n",
      " -0.11700439  0.05661011  0.05532837  0.06616211 -0.00578308 -0.0512085\n",
      "  0.02586365 -0.07971191 -0.05789185  0.00251198  0.01875305  0.03851318\n",
      "  0.11029053  0.03433228 -0.02996826 -0.00073242 -0.02627563  0.00849152\n",
      " -0.00357246  0.01519012 -0.06713867 -0.04266357  0.09631348  0.07208252\n",
      "  0.0458374   0.11462402 -0.03796387  0.07629395 -0.04666138  0.03059387\n",
      "  0.08111572 -0.0512085   0.07684326  0.0269165   0.01506042 -0.02372742\n",
      " -0.08807373 -0.0682373   0.12988281 -0.01207733 -0.06695557 -0.03897095\n",
      "  0.07952881  0.10308838  0.03292847  0.00637436 -0.03039551 -0.01305389\n",
      "  0.09197998 -0.00439072  0.02206421  0.02345276  0.06536865 -0.00374794\n",
      " -0.09771729  0.08569336 -0.0617981  -0.01870728  0.00087357 -0.05380249\n",
      " -0.03143311  0.02389526  0.00920105 -0.00476837  0.09716797 -0.02056885\n",
      " -0.008461    0.0305481  -0.03097534  0.05770874 -0.03256226 -0.06842041\n",
      "  0.00930786 -0.00823212 -0.05206299  0.09588623 -0.07501221 -0.08190918\n",
      "  0.08227539  0.04492188 -0.05032349 -0.06130981  0.03060913  0.03387451\n",
      "  0.0385437   0.01747131  0.0446167  -0.05099487  0.02720642  0.06671143\n",
      " -0.0559082  -0.07208252  0.08081055 -0.08044434  0.08789062  0.01171112\n",
      "  0.03796387 -0.01210785 -0.0129776   0.02043152  0.01432037  0.01222229\n",
      "  0.02458191 -0.05371094 -0.07122803 -0.02720642  0.01338959  0.02555847\n",
      "  0.05480957 -0.00092125 -0.04379272 -0.09185791  0.0604248  -0.00585938\n",
      " -0.09643555 -0.09967041 -0.01704407 -0.07592773 -0.04150391  0.11700439\n",
      " -0.14355469 -0.01945496  0.06811523  0.03610229 -0.03369141  0.14123535\n",
      "  0.00135136 -0.0748291   0.03601074  0.02397156  0.03781128 -0.02783203\n",
      " -0.12316895  0.02789307 -0.05355835 -0.04867554  0.00362587 -0.11169434\n",
      "  0.07739258 -0.01742554 -0.07574463 -0.07141113  0.09393311 -0.09973145\n",
      "  0.02876282 -0.11529541  0.00580978 -0.00802612  0.05328369  0.01844788\n",
      "  0.09161377 -0.08575439 -0.01858521  0.03964233 -0.06762695 -0.08288574\n",
      " -0.05004883 -0.04452515 -0.07562256 -0.04269409 -0.02207947 -0.08050537\n",
      " -0.0300293  -0.00543213  0.0609436   0.00854492  0.037323   -0.0289917\n",
      "  0.06240845 -0.13525391  0.11456299  0.10064697  0.06463623  0.10131836\n",
      " -0.02012634 -0.08325195 -0.00157833  0.03186035 -0.02705383  0.03390503\n",
      " -0.01361084 -0.03939819 -0.04324341 -0.01715088 -0.04199219 -0.01203156\n",
      "  0.08300781 -0.10693359  0.1262207   0.01418304  0.0369873   0.09777832\n",
      "  0.05838013  0.05514526 -0.10388184 -0.03887939 -0.04217529 -0.01165009\n",
      " -0.04611206  0.01554871  0.03488159  0.03894043  0.10400391 -0.0536499\n",
      "  0.1081543   0.04428101 -0.05734253  0.11791992  0.03007507 -0.00177002\n",
      " -0.01882935 -0.06658936  0.03729248  0.01618958 -0.05749512  0.00638962\n",
      " -0.10137939 -0.09002686  0.00067329 -0.08789062  0.07019043 -0.01829529\n",
      "  0.00800323 -0.02566528  0.00733566 -0.0255127 ]\n"
     ]
    }
   ],
   "source": [
    "from __future__ import annotations\n",
    "\n",
    "\n",
    "doc_texts = [\n",
    "    \"\"\"Александр Сергеевич Пушкин (26 мая [6 июня] 1799, Москва — 29 января [10 февраля] 1837, Санкт-Петербург)\n",
    "    — русский поэт, драматург и прозаик, заложивший основы русского реалистического направления,\n",
    "    литературный критик и теоретик литературы, историк, публицист, журналист.\"\"\",\n",
    "    \"\"\"Ромашка — род однолетних цветковых растений семейства астровые,\n",
    "    или сложноцветные, по современной классификации объединяет около 70 видов невысоких пахучих трав,\n",
    "    цветущих с первого года жизни.\"\"\",\n",
    "]\n",
    "query_text = \"когда день рождения Пушкина?\"\n",
    "\n",
    "\n",
    "def main():\n",
    "    import numpy as np\n",
    "    from scipy.spatial.distance import cdist\n",
    "\n",
    "    sdk = YCloudML(\n",
    "        folder_id=\"b1g10f66fjjfuqg9ehje\",\n",
    "        auth=\"AQVN0zMfZzvnaQ_qeJz4mtiu3yYeTKJe2aupo1z5\",\n",
    "    )\n",
    "\n",
    "    query_model = sdk.models.text_embeddings(\"query\")\n",
    "    query_embedding = query_model.run(query_text)\n",
    "\n",
    "    doc_model = sdk.models.text_embeddings(\"doc\")\n",
    "    doc_embeddings = [doc_model.run(text) for text in doc_texts]\n",
    "    print(np.array(doc_embeddings[0]))\n",
    "    # query_embedding = np.array(query_embedding)\n",
    "    #\n",
    "    # dist = cdist([query_embedding], doc_embeddings, metric=\"cosine\")\n",
    "    # sim = 1 - dist\n",
    "    # result = doc_texts[np.argmax(sim)]\n",
    "    # print(result)\n",
    "\n",
    "\n",
    "if __name__ == \"__main__\":\n",
    "    main()"
   ],
   "metadata": {
    "collapsed": false
   }
  },
  {
   "cell_type": "code",
   "execution_count": 4,
   "outputs": [
    {
     "data": {
      "text/plain": "GPTModelResult(alternatives=(Alternative(role='assistant', text='Небо — это пространство над поверхностью Земли или другой планеты, которое мы видим, когда смотрим вверх. Оно может быть ясным и безоблачным, облачным или пасмурным, а ночью на нём появляются звёзды, луна и другие небесные тела.\\n\\nТакже слово «небо» может использоваться в переносном смысле для обозначения высшего пространства, где находятся божественные существа или где, как полагают некоторые люди, существует жизнь после смерти.', status=<AlternativeStatus.FINAL: 3>),), usage=Usage(input_text_tokens=14, completion_tokens=87, total_tokens=101), model_version='23.10.2024')"
     },
     "execution_count": 4,
     "metadata": {},
     "output_type": "execute_result"
    }
   ],
   "source": [
    "from yandex_cloud_ml_sdk import YCloudML\n",
    "\n",
    "sdk = YCloudML(\n",
    "    folder_id=\"b1g10f66fjjfuqg9ehje\",\n",
    "    auth=\"AQVN0zMfZzvnaQ_qeJz4mtiu3yYeTKJe2aupo1z5\",\n",
    ")\n",
    "\n",
    "model = sdk.models.completions(\"yandexgpt\")\n",
    "model = model.configure(temperature=0.5)\n",
    "result = model.run(\"Что такое небо?\")\n"
   ],
   "metadata": {
    "collapsed": false
   }
  },
  {
   "cell_type": "code",
   "execution_count": 8,
   "outputs": [
    {
     "data": {
      "text/plain": "'Небо — это пространство над поверхностью Земли или другой планеты, которое мы видим, когда смотрим вверх. Оно может быть ясным и безоблачным, облачным или пасмурным, а ночью на нём появляются звёзды, луна и другие небесные тела.\\n\\nТакже слово «небо» может использоваться в переносном смысле для обозначения высшего пространства, где находятся божественные существа или где, как полагают некоторые люди, существует жизнь после смерти.'"
     },
     "execution_count": 8,
     "metadata": {},
     "output_type": "execute_result"
    }
   ],
   "source": [
    "result.alternatives[0].text"
   ],
   "metadata": {
    "collapsed": false
   }
  },
  {
   "cell_type": "code",
   "execution_count": null,
   "outputs": [],
   "source": [
    "from langchain.prompts.prompt import PromptTemplate\n",
    "prompt_text = \"\"\"\n",
    "      Твоя задаче среди найденных документов найти тот, в котором имеется ответ на вопрос пользователя. Ты должен ответить четко по найденному документу, не потеряв никаких важных деталий и особенно названия png картинок, в которых указаны примеры заполнения документов\n",
    "      Если в документах нет подходящего ответа на вопросы, скажи, что в базе нет ответа на этот вопрос\n",
    "      Документы: {context}\n",
    "      Вопрос: {question}\"\"\"\n",
    "prompt = PromptTemplate(\n",
    "    template=prompt_text,\n",
    "    input_variables=[\"context\", \"question\"],\n",
    ")"
   ],
   "metadata": {
    "collapsed": false
   }
  },
  {
   "cell_type": "code",
   "execution_count": null,
   "outputs": [],
   "source": [
    "retriever = de.retriever\n",
    "rag = RaptorLLM(retriever, prompt = prompt)"
   ],
   "metadata": {
    "collapsed": false
   }
  }
 ],
 "metadata": {
  "kernelspec": {
   "display_name": "Python 3",
   "language": "python",
   "name": "python3"
  },
  "language_info": {
   "codemirror_mode": {
    "name": "ipython",
    "version": 2
   },
   "file_extension": ".py",
   "mimetype": "text/x-python",
   "name": "python",
   "nbconvert_exporter": "python",
   "pygments_lexer": "ipython2",
   "version": "2.7.6"
  }
 },
 "nbformat": 4,
 "nbformat_minor": 0
}
