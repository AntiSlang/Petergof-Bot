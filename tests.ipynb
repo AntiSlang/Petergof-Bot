{
 "cells": [
  {
   "cell_type": "code",
   "id": "initial_id",
   "metadata": {
    "collapsed": true,
    "ExecuteTime": {
     "end_time": "2025-03-16T14:27:51.270999Z",
     "start_time": "2025-03-16T14:27:46.914704Z"
    }
   },
   "source": [
    "%load_ext autoreload\n",
    "%autoreload 2\n",
    "from rout_suggestion import get_route_suggestion\n",
    "from utils import create_json_chunks\n",
    "user_dialogues = [\n",
    "    {\"user\": \"Расскажи мне про нижний парк\"},\n",
    "    {\"bot\": \"Ну он норм\"},\n",
    "    {\"user\": \"фонтан Самсон хуйня\"},\n",
    "    {\"bot\": \"Да не оч\"},\n",
    "]\n",
    "\n",
    "data_chunks = create_json_chunks()\n",
    "\n",
    "res, current_route_json = get_route_suggestion(user_dialogues, data_chunks)\n",
    "user_dialogues.append({'bot': res})\n",
    "print(res)"
   ],
   "outputs": [
    {
     "name": "stdout",
     "output_type": "stream",
     "text": [
      "The autoreload extension is already loaded. To reload it, use:\n",
      "  %reload_ext autoreload\n",
      "(https://yandex.ru/maps/?rtext=59.891802%2C29.913220~59.8802377698%2C29.9281632900~59.8790156184%2C29.9336349964&rtt=auto)\n",
      "Мы начинаем наш маршрут с посещения Парка Александрия, одного из самых красивых и исторических парков Петергофа, названного в честь императрицы Александры Фёдоровны. \n",
      "Затем мы направляемся во Фермерский дворец, уникальный архитектурный комплекс, где императорская семья проводила летние месяцы. \n",
      "Маршрут можно изучить по ссылке: [Ссылка Яндекс Карты](https://yandex.ru/maps/?rtext=59.891802%2C29.913220~59.8802377698%2C29.9281632900~59.8790156184%2C29.9336349964&rtt=auto). Нужно ли внести какие-либо изменения в этот маршрут?\n"
     ]
    }
   ],
   "execution_count": 36
  },
  {
   "metadata": {
    "ExecuteTime": {
     "end_time": "2025-03-16T11:48:02.994970Z",
     "start_time": "2025-03-16T11:48:02.877764Z"
    }
   },
   "cell_type": "code",
   "source": "# current_route_json",
   "id": "c2ae0ed511d83745",
   "outputs": [],
   "execution_count": 26
  },
  {
   "metadata": {
    "ExecuteTime": {
     "end_time": "2025-03-16T14:28:09.711500Z",
     "start_time": "2025-03-16T14:27:59.788766Z"
    }
   },
   "cell_type": "code",
   "source": [
    "%load_ext autoreload\n",
    "%autoreload 2\n",
    "from rout_suggestion import change_route_by_message\n",
    "message = \"добавь побольше объектов\"\n",
    "res, _ = change_route_by_message(message, current_route_json, data_chunks, user_dialogues)\n",
    "print(res)"
   ],
   "id": "8a5d7bf39448e8f8",
   "outputs": [
    {
     "name": "stdout",
     "output_type": "stream",
     "text": [
      "The autoreload extension is already loaded. To reload it, use:\n",
      "  %reload_ext autoreload\n",
      "(https://yandex.ru/maps/?rtext=59.891802%2C29.913220~59.8802377698%2C29.9281632900~59.8790156184%2C29.9336349964~59.8872683051%2C29.9058151245~59.8859010740%2C29.9055576324~59.8855511830%2C29.9197626114~59.8845028335%2C29.9101093411~59.8841515821%2C29.9220693111&rtt=auto)\n",
      "В ваш маршрут были добавлены следующие объекты: Фонтаны «Адам» и «Ева», Фонтан «Китовый», Фонтан «Солнце», Музей фонтанного дела и Фонтан «Пирамида». Таким образом, теперь ваш маршрут включает в себя 7 объектов: \n",
      "\n",
      "1. Парк Александрия \n",
      "2. Фермерский дворец \n",
      "3. Фонтаны «Адам» и «Ева» \n",
      "4. Фонтан «Китовый» \n",
      "5. Фонтан «Солнце» \n",
      "6. Музей фонтанного дела \n",
      "7. Фонтан «Пирамида» \n",
      "\n",
      "Нужно ли внести какие-либо изменения в этот маршрут? \n",
      "\n",
      "Маршрут можно изучить по ссылке: [Ссылка Яндекс Карты](https://yandex.ru/maps/?rtext=59.891802%2C29.913220~59.8802377698%2C29.9281632900~59.8790156184%2C29.9336349964~59.8872683051%2C29.9058151245~59.8859010740%2C29.9055576324~59.8855511830%2C29.9197626114~59.8845028335%2C29.9101093411~59.8841515821%2C29.9220693111&rtt=auto)\n"
     ]
    }
   ],
   "execution_count": 37
  },
  {
   "metadata": {
    "ExecuteTime": {
     "end_time": "2025-03-11T21:10:05.968578Z",
     "start_time": "2025-03-11T21:10:05.812238Z"
    }
   },
   "cell_type": "code",
   "source": "current_route_json",
   "id": "b8b664e76ff8a53b",
   "outputs": [
    {
     "data": {
      "text/plain": [
       "[{'name': 'Парк Александрия',\n",
       "  'description': 'Дата формирования: 1826 - 1832 годыАрхитекторы: А.А. Менелас, А. И. ШтакеншнейдерСадовый мастер: П.И. ЭрлерПлощадь парка - 115 гаПарк Александрия назван так по имени своей первой владелицы – императрицы Александры Фёдоровны, супруги Николая I. Cолнце, цветы, тенистые рощи старых дубов, \"музыка воды\" ручья, просторы лугов под сливающимся с заливом бездонным небом – всё это и есть Александрия – семейное гнездо четырёх поколений династии Романовых.\\n    \\n        \\n            Рекомендованный маршрут прогулки по парку Александрия\\n            \\n                Сохраните карту на вашем устройстве \\n            \\n        \\n    \\n',\n",
       "  'score': 68,\n",
       "  'link': 'https://peterhofmuseum.ru/images/w1000-h1000/20220328/e05abc341efc682bbad5f9437ef43bff.jpg',\n",
       "  'coordinates': {'lat': '59.8802377698', 'lon': '29.9281632900'}}]"
      ]
     },
     "execution_count": 10,
     "metadata": {},
     "output_type": "execute_result"
    }
   ],
   "execution_count": 10
  }
 ],
 "metadata": {
  "kernelspec": {
   "display_name": "Python 3",
   "language": "python",
   "name": "python3"
  },
  "language_info": {
   "codemirror_mode": {
    "name": "ipython",
    "version": 2
   },
   "file_extension": ".py",
   "mimetype": "text/x-python",
   "name": "python",
   "nbconvert_exporter": "python",
   "pygments_lexer": "ipython2",
   "version": "2.7.6"
  }
 },
 "nbformat": 4,
 "nbformat_minor": 5
}
